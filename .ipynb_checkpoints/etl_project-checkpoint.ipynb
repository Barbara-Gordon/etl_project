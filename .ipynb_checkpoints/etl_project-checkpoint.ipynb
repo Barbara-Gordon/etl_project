{
 "cells": [
  {
   "cell_type": "code",
   "execution_count": 47,
   "metadata": {},
   "outputs": [],
   "source": [
    "import pandas as pd\n",
    "from sodapy import Socrata\n",
    "from bs4 import BeautifulSoup\n",
    "import requests\n",
    "import numpy as np\n",
    "\n",
    "from splinter import Browser\n",
    "import time"
   ]
  },
  {
   "cell_type": "code",
   "execution_count": 8,
   "metadata": {},
   "outputs": [],
   "source": [
    "client = Socrata(\"data.seattle.gov\", None)\n",
    "results = client.get(\"6vkj-f5xf\", limit = 100)\n",
    "results_df = pd.DataFrame.from_records(results)"
   ]
  },
  {
   "cell_type": "code",
   "execution_count": 13,
   "metadata": {},
   "outputs": [
    {
     "data": {
      "text/html": [
       "<div>\n",
       "<style scoped>\n",
       "    .dataframe tbody tr th:only-of-type {\n",
       "        vertical-align: middle;\n",
       "    }\n",
       "\n",
       "    .dataframe tbody tr th {\n",
       "        vertical-align: top;\n",
       "    }\n",
       "\n",
       "    .dataframe thead th {\n",
       "        text-align: right;\n",
       "    }\n",
       "</style>\n",
       "<table border=\"1\" class=\"dataframe\">\n",
       "  <thead>\n",
       "    <tr style=\"text-align: right;\">\n",
       "      <th></th>\n",
       "      <th>author</th>\n",
       "      <th>bibnum</th>\n",
       "      <th>floatingitem</th>\n",
       "      <th>isbn</th>\n",
       "      <th>itemcollection</th>\n",
       "      <th>itemcount</th>\n",
       "      <th>itemlocation</th>\n",
       "      <th>itemtype</th>\n",
       "      <th>publicationyear</th>\n",
       "      <th>publisher</th>\n",
       "      <th>reportdate</th>\n",
       "      <th>subjects</th>\n",
       "      <th>title</th>\n",
       "      <th>short title</th>\n",
       "    </tr>\n",
       "  </thead>\n",
       "  <tbody>\n",
       "    <tr>\n",
       "      <th>0</th>\n",
       "      <td>O'Ryan, Ellie</td>\n",
       "      <td>3011076</td>\n",
       "      <td>Floating</td>\n",
       "      <td>1481425730, 1481425749, 9781481425735, 9781481...</td>\n",
       "      <td>ncrdr</td>\n",
       "      <td>1</td>\n",
       "      <td>qna</td>\n",
       "      <td>jcbk</td>\n",
       "      <td>2014.</td>\n",
       "      <td>Simon Spotlight,</td>\n",
       "      <td>2017-09-01T00:00:00.000</td>\n",
       "      <td>Musicians Fiction, Bullfighters Fiction, Best ...</td>\n",
       "      <td>A tale of two friends / adapted by Ellie O'Rya...</td>\n",
       "      <td>A tale of two friends</td>\n",
       "    </tr>\n",
       "    <tr>\n",
       "      <th>1</th>\n",
       "      <td>Kishimoto, Masashi, 1974-</td>\n",
       "      <td>2248846</td>\n",
       "      <td>NA</td>\n",
       "      <td>1569319006</td>\n",
       "      <td>nycomic</td>\n",
       "      <td>1</td>\n",
       "      <td>lcy</td>\n",
       "      <td>acbk</td>\n",
       "      <td>2003, c1999.</td>\n",
       "      <td>Viz,</td>\n",
       "      <td>2017-09-01T00:00:00.000</td>\n",
       "      <td>Ninja Japan Comic books strips etc, Comic book...</td>\n",
       "      <td>Naruto. Vol. 1, Uzumaki Naruto / story and art...</td>\n",
       "      <td>Naruto. Vol. 1, Uzumaki Naruto</td>\n",
       "    </tr>\n",
       "    <tr>\n",
       "      <th>2</th>\n",
       "      <td>Scott, Jerry, 1955-</td>\n",
       "      <td>3209270</td>\n",
       "      <td>NA</td>\n",
       "      <td>144945867X, 9781449458676</td>\n",
       "      <td>nycomic</td>\n",
       "      <td>1</td>\n",
       "      <td>bea</td>\n",
       "      <td>acbk</td>\n",
       "      <td>2014.</td>\n",
       "      <td>Andrews McMeel Publishing,</td>\n",
       "      <td>2017-09-01T00:00:00.000</td>\n",
       "      <td>Duncan Jeremy Fictitious character Comic books...</td>\n",
       "      <td>Peace, love &amp; Wi-Fi : a ZITS treasury / by Jer...</td>\n",
       "      <td>Peace, love &amp; Wi-Fi : a ZITS treasury</td>\n",
       "    </tr>\n",
       "    <tr>\n",
       "      <th>3</th>\n",
       "      <td>Carlile, Clancy, 1930-</td>\n",
       "      <td>1907265</td>\n",
       "      <td>NA</td>\n",
       "      <td>0786706155</td>\n",
       "      <td>cafic</td>\n",
       "      <td>1</td>\n",
       "      <td>cen</td>\n",
       "      <td>acbk</td>\n",
       "      <td>c1999.</td>\n",
       "      <td>Carroll &amp; Graf,</td>\n",
       "      <td>2017-09-01T00:00:00.000</td>\n",
       "      <td>Hemingway Ernest 1899 1961 Fiction, Biographic...</td>\n",
       "      <td>The Paris pilgrims : a novel / Clancy Carlile.</td>\n",
       "      <td>The Paris pilgrims : a novel</td>\n",
       "    </tr>\n",
       "    <tr>\n",
       "      <th>4</th>\n",
       "      <td>NaN</td>\n",
       "      <td>1644616</td>\n",
       "      <td>NA</td>\n",
       "      <td>094020813X</td>\n",
       "      <td>canf</td>\n",
       "      <td>1</td>\n",
       "      <td>cen</td>\n",
       "      <td>acbk</td>\n",
       "      <td>1991, c1988.</td>\n",
       "      <td>Red Alder Books/Down There Press,</td>\n",
       "      <td>2017-09-01T00:00:00.000</td>\n",
       "      <td>Erotic literature American, American literatur...</td>\n",
       "      <td>Erotic by nature : a celebration of life, of l...</td>\n",
       "      <td>Erotic by nature : a celebration of life, of l...</td>\n",
       "    </tr>\n",
       "  </tbody>\n",
       "</table>\n",
       "</div>"
      ],
      "text/plain": [
       "                      author   bibnum floatingitem  \\\n",
       "0              O'Ryan, Ellie  3011076     Floating   \n",
       "1  Kishimoto, Masashi, 1974-  2248846           NA   \n",
       "2        Scott, Jerry, 1955-  3209270           NA   \n",
       "3     Carlile, Clancy, 1930-  1907265           NA   \n",
       "4                        NaN  1644616           NA   \n",
       "\n",
       "                                                isbn itemcollection itemcount  \\\n",
       "0  1481425730, 1481425749, 9781481425735, 9781481...          ncrdr         1   \n",
       "1                                         1569319006        nycomic         1   \n",
       "2                          144945867X, 9781449458676        nycomic         1   \n",
       "3                                         0786706155          cafic         1   \n",
       "4                                         094020813X           canf         1   \n",
       "\n",
       "  itemlocation itemtype publicationyear                          publisher  \\\n",
       "0          qna     jcbk           2014.                   Simon Spotlight,   \n",
       "1          lcy     acbk    2003, c1999.                               Viz,   \n",
       "2          bea     acbk           2014.         Andrews McMeel Publishing,   \n",
       "3          cen     acbk          c1999.                    Carroll & Graf,   \n",
       "4          cen     acbk    1991, c1988.  Red Alder Books/Down There Press,   \n",
       "\n",
       "                reportdate                                           subjects  \\\n",
       "0  2017-09-01T00:00:00.000  Musicians Fiction, Bullfighters Fiction, Best ...   \n",
       "1  2017-09-01T00:00:00.000  Ninja Japan Comic books strips etc, Comic book...   \n",
       "2  2017-09-01T00:00:00.000  Duncan Jeremy Fictitious character Comic books...   \n",
       "3  2017-09-01T00:00:00.000  Hemingway Ernest 1899 1961 Fiction, Biographic...   \n",
       "4  2017-09-01T00:00:00.000  Erotic literature American, American literatur...   \n",
       "\n",
       "                                               title  \\\n",
       "0  A tale of two friends / adapted by Ellie O'Rya...   \n",
       "1  Naruto. Vol. 1, Uzumaki Naruto / story and art...   \n",
       "2  Peace, love & Wi-Fi : a ZITS treasury / by Jer...   \n",
       "3     The Paris pilgrims : a novel / Clancy Carlile.   \n",
       "4  Erotic by nature : a celebration of life, of l...   \n",
       "\n",
       "                                         short title  \n",
       "0                              A tale of two friends  \n",
       "1                     Naruto. Vol. 1, Uzumaki Naruto  \n",
       "2              Peace, love & Wi-Fi : a ZITS treasury  \n",
       "3                       The Paris pilgrims : a novel  \n",
       "4  Erotic by nature : a celebration of life, of l...  "
      ]
     },
     "execution_count": 13,
     "metadata": {},
     "output_type": "execute_result"
    }
   ],
   "source": [
    "new = results_df['title'].str.split(\" /\",n=1,expand = True)\n",
    "results_df[\"short title\"]= new[0]\n",
    "results_df.head()"
   ]
  },
  {
   "cell_type": "code",
   "execution_count": 11,
   "metadata": {},
   "outputs": [],
   "source": []
  },
  {
   "cell_type": "code",
   "execution_count": 68,
   "metadata": {},
   "outputs": [
    {
     "name": "stdout",
     "output_type": "stream",
     "text": [
      "[1971 1972 1973 1974 1975 1976 1977 1978 1979 1980 1981 1982 1983 1984\n",
      " 1985 1986 1987 1988 1989 1990 1991 1992 1993 1994 1995 1996 1997 1998\n",
      " 1999 2000 2001 2002 2003 2004 2005 2006 2007 2008 2009 2010 2011 2012\n",
      " 2013 2014 2015 2016 2017]\n"
     ]
    }
   ],
   "source": [
    "base_url = \"https://en.wikipedia.org/wiki/The_New_York_Times_Fiction_Best_Sellers_of_\"\n",
    "\n",
    "year_range = np.arange(1971, 2018, dtype=int)\n",
    "#year_range = [2018]\n",
    "print(year_range)"
   ]
  },
  {
   "cell_type": "code",
   "execution_count": 69,
   "metadata": {},
   "outputs": [],
   "source": [
    "# append to one data frame\n",
    "year = base_url + str(1970)\n",
    "tables = pd.read_html(year)\n",
    "df_prime = tables[0]\n",
    "new_header = df_prime.iloc[0] #grab the first row for the header\n",
    "df_prime = df_prime[1:] #take the data less the header row\n",
    "df_prime.columns = new_header #set the header row as the df header\n",
    "df_prime = df_prime.dropna()\n",
    "df_prime['Year'] = 1970\n",
    "\n",
    "isbn =[]\n",
    "for row in df_prime['Book']: \n",
    "        browser.visit(year)\n",
    "        time.sleep(2)\n",
    "        try:\n",
    "            browser.click_link_by_partial_text(row)\n",
    "            #time.sleep(2)\n",
    "            browser.click_link_by_partial_href(\"Special:BookSources\")\n",
    "            html= browser.url\n",
    "            isbn_num = html[50:]\n",
    "            isbn.append(isbn_num)\n",
    "            \n",
    "        except:\n",
    "            isbn.append(\"\")\n",
    "df_prime['ISBN']= isbn"
   ]
  },
  {
   "cell_type": "code",
   "execution_count": 67,
   "metadata": {},
   "outputs": [],
   "source": [
    "executable_path = {'executable_path': 'chromedriver.exe'}\n",
    "browser = Browser('chrome', **executable_path, headless=False)"
   ]
  },
  {
   "cell_type": "code",
   "execution_count": 65,
   "metadata": {},
   "outputs": [
    {
     "name": "stdout",
     "output_type": "stream",
     "text": [
      "https://en.wikipedia.org/wiki/The_New_York_Times_Fiction_Best_Sellers_of_1970\n",
      "1                     The Godfather\n",
      "6     The French Lieutenant's Woman\n",
      "7                     The Godfather\n",
      "8     The French Lieutenant's Woman\n",
      "19                       Love Story\n",
      "Name: Book, dtype: object\n",
      "['', '0-224-61654-4', '', '0-224-61654-4', '0-340-12508-X']\n"
     ]
    }
   ],
   "source": [
    "for y in year_range:\n",
    "    new_url = base_url + str(y)\n",
    "    print(new_url)\n",
    "    table1 = pd.read_html(new_url)\n",
    "    df = table1[0]\n",
    "    new_header = df.iloc[0] #grab the first row for the header\n",
    "    df = df[1:] #take the data less the header row\n",
    "    df.columns = new_header #set the header row as the df header\n",
    "    df = df.dropna()\n",
    "    df['Year'] = y\n",
    "    isbn = []\n",
    "    print(df['Book'])\n",
    "    \n",
    "    for row in df['Book']: \n",
    "        browser.visit(new_url)\n",
    "        time.sleep(2)\n",
    "        try:\n",
    "            browser.click_link_by_partial_text(row)\n",
    "            #time.sleep(2)\n",
    "            browser.click_link_by_partial_href(\"Special:BookSources\")\n",
    "            html= browser.url\n",
    "            isbn_num = html[50:]\n",
    "            isbn.append(isbn_num)\n",
    "            \n",
    "        except:\n",
    "            isbn.append(\"\")\n",
    "    df['ISBN']= isbn\n",
    "    df_new = df_prime.append(df, ignore_index = True)\n"
   ]
  },
  {
   "cell_type": "code",
   "execution_count": null,
   "metadata": {},
   "outputs": [],
   "source": [
    "\n",
    "    <a href=\"/wiki/Special:BookSources/0-224-61654-4\" title=\"Special:BookSources/0-224-61654-4\">0-224-61654-4</a>"
   ]
  },
  {
   "cell_type": "code",
   "execution_count": 64,
   "metadata": {},
   "outputs": [
    {
     "name": "stdout",
     "output_type": "stream",
     "text": [
      "50\n"
     ]
    }
   ],
   "source": [
    "print(len(\"https://en.wikipedia.org/wiki/Special:BookSources/\"))"
   ]
  },
  {
   "cell_type": "code",
   "execution_count": null,
   "metadata": {},
   "outputs": [],
   "source": [
    "for y in year_range:\n",
    "    new_url = base_url + str(y)\n",
    "    table1 = pd.read_html(new_url)\n",
    "    df = tables[0]\n",
    "    new_header = df.iloc[0] #grab the first row for the header\n",
    "    df = df[1:] #take the data less the header row\n",
    "    df.columns = new_header #set the header row as the df header\n",
    "    df = df.dropna()\n",
    "    df['Year'] = y\n",
    "    df_new = df_prime.append(df, ignore_index = True)"
   ]
  }
 ],
 "metadata": {
  "kernelspec": {
   "display_name": "Python 3",
   "language": "python",
   "name": "python3"
  },
  "language_info": {
   "codemirror_mode": {
    "name": "ipython",
    "version": 3
   },
   "file_extension": ".py",
   "mimetype": "text/x-python",
   "name": "python",
   "nbconvert_exporter": "python",
   "pygments_lexer": "ipython3",
   "version": "3.7.0"
  }
 },
 "nbformat": 4,
 "nbformat_minor": 2
}
